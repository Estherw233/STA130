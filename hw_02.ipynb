{
 "cells": [
  {
   "cell_type": "markdown",
   "metadata": {},
   "source": [
    "1. 2.\n",
    "https://chatgpt.com/share/66ec97f9-a34c-8005-8bc8-4139dcd7fcb0"
   ]
  },
  {
   "cell_type": "code",
   "execution_count": 1,
   "metadata": {},
   "outputs": [
    {
     "name": "stdout",
     "output_type": "stream",
     "text": [
      "Win percentage when switching: 66.48%\n"
     ]
    }
   ],
   "source": [
    "# Q3：code form chat gpt\n",
    "# good about it: an f string explaination; win rate calculation; less meaning less virable\n",
    "\n",
    "import numpy as np\n",
    "\n",
    "# Define constants\n",
    "reps = 100000  # Number of simulations\n",
    "doors = [1, 2, 3]  # List of doors\n",
    "\n",
    "# Variables to track wins\n",
    "wins_when_switching = 0\n",
    "\n",
    "for _ in range(reps):\n",
    "    # Randomly assign the winning door\n",
    "    winning_door = np.random.choice(doors)\n",
    "    \n",
    "    # The player makes an initial random choice\n",
    "    player_choice = np.random.choice(doors)\n",
    "    \n",
    "    # Host reveals a goat door (must not be the player's choice or the winning door)\n",
    "    remaining_doors = [door for door in doors if door != player_choice and door != winning_door]\n",
    "    revealed_door = np.random.choice(remaining_doors)\n",
    "    \n",
    "    # The player switches to the other unopened door\n",
    "    switched_choice = [door for door in doors if door != player_choice and door != revealed_door][0]\n",
    "    \n",
    "    # Check if the switched door is the winning door\n",
    "    if switched_choice == winning_door:\n",
    "        wins_when_switching += 1\n",
    "\n",
    "# Calculate the win percentage when switching\n",
    "win_percentage_when_switching = wins_when_switching / reps\n",
    "print(f\"Win percentage when switching: {win_percentage_when_switching * 100:.2f}%\")\n",
    "\n"
   ]
  },
  {
   "cell_type": "markdown",
   "metadata": {},
   "source": [
    "4.\n",
    "https://chatgpt.com/share/66ecd069-d150-8005-9655-98f0c3fc38b0\n",
    "\n",
    "\n",
    "5.\n",
    "https://chatgpt.com/share/66ecd201-8934-8005-8d82-164e80181bfb\n",
    "\n",
    "6.\n",
    "The chatbot was very effective in both explaining the logic of the code and recognizing errors. Interacting with the chatbot provided me with clear explanations for recognizing Monty Hall problems. While chatbots are convenient, more access to information can provide us with more credible answers. My understanding of AI-driven tools has changed; asking questions is often more efficient than searching when I'm thinking of specific questions for particular examples.Chatbots have certainly saved me long hours of searching when I'm embracing new knowledge. After enjoying the convenience of Chatbot, I find them to be an integral part of learning coding, statistics, and data science, as they make complex topics easier to understand and more efficient to work with.\n",
    "\n",
    "7.\n",
    "My view on\n",
    " AI-assisted tools has become more pragmatic. Initially, I viewed them as basic aids, but through my interactions with chatbots, I realized their practical value in learning. They effectively clarify complex coding and statistical concepts, help debug problems, and provide insights to simplify the problem-solving process. Overall, AI tools have proven to be crucial in enhancing my understanding and effectiveness of coding, statistics, and data science.\n",
    "\n",
    "8.\n",
    "https://chatgpt.com/share/66ecdfcc-c098-8005-a947-280536f53016\n",
    "\n",
    "9.\n",
    "I didn't really look at what was in the textbook. However, I was trying hard to improve the wording of my communication with chatbot to have more efficient conversations with chatbot.\n",
    "\n"
   ]
  }
 ],
 "metadata": {
  "kernelspec": {
   "display_name": "Python 3",
   "language": "python",
   "name": "python3"
  },
  "language_info": {
   "codemirror_mode": {
    "name": "ipython",
    "version": 3
   },
   "file_extension": ".py",
   "mimetype": "text/x-python",
   "name": "python",
   "nbconvert_exporter": "python",
   "pygments_lexer": "ipython3",
   "version": "3.11.9"
  }
 },
 "nbformat": 4,
 "nbformat_minor": 2
}
